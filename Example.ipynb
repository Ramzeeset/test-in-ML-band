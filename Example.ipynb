{
 "cells": [
  {
   "cell_type": "code",
   "execution_count": 14,
   "metadata": {},
   "outputs": [],
   "source": [
    "from Jobsclassifier import Jobsclassifier\n",
    "import pandas as pd\n",
    "import numpy as np\n",
    "import collections\n",
    "import math\n",
    "import pymorphy2"
   ]
  },
  {
   "cell_type": "code",
   "execution_count": 15,
   "metadata": {},
   "outputs": [],
   "source": [
    "data_train = pd.read_csv('train.csv')\n",
    "data1 = data_train['name'] + ' ' + data_train['description']\n",
    "\n",
    "data_test = pd.read_csv('test.csv')\n",
    "data2 =  data_test['name'] + ' ' + data_test['description']\n",
    "\n",
    "category = ['Менеджер', 'Искусство', 'Рабочий', 'Дизайнер', 'Специалист',\n",
    "            'СМИ', 'Врач', 'other', 'Инженер', 'IT', 'Право', 'Учитель',\n",
    "            'Агент']"
   ]
  },
  {
   "cell_type": "code",
   "execution_count": 17,
   "metadata": {},
   "outputs": [],
   "source": [
    "model = Jobsclassifier()\n",
    "model.fit(data1, data_train['category'], category)\n",
    "pred = model.predict(data2)"
   ]
  },
  {
   "cell_type": "code",
   "execution_count": 18,
   "metadata": {},
   "outputs": [],
   "source": [
    "Id = []\n",
    "pred = np.array(pred)\n",
    "for i in range (0, 106):\n",
    "    Id.append(i)\n",
    "Id = np.reshape(Id, pred.shape)\n",
    "Answer = pd.DataFrame(Id)\n",
    "Answer.columns = ['id']\n",
    "Answer['category'] = pred\n",
    "Answer.to_csv(\"Answer.csv\", index=False)"
   ]
  },
  {
   "cell_type": "code",
   "execution_count": null,
   "metadata": {},
   "outputs": [],
   "source": []
  }
 ],
 "metadata": {
  "kernelspec": {
   "display_name": "Python 3",
   "language": "python",
   "name": "python3"
  },
  "language_info": {
   "codemirror_mode": {
    "name": "ipython",
    "version": 3
   },
   "file_extension": ".py",
   "mimetype": "text/x-python",
   "name": "python",
   "nbconvert_exporter": "python",
   "pygments_lexer": "ipython3",
   "version": "3.7.6"
  }
 },
 "nbformat": 4,
 "nbformat_minor": 4
}
